{
 "cells": [
  {
   "cell_type": "markdown",
   "id": "68b2efc4",
   "metadata": {},
   "source": [
    "# Lists"
   ]
  },
  {
   "cell_type": "code",
   "execution_count": null,
   "id": "f6d68ff0",
   "metadata": {},
   "outputs": [],
   "source": [
    "#python list creation\n",
    "list=[1,2,3,4,5,'yash','niteesh',34.5]         #List can contain different types of elememnts which are seperated by commas and enclosed in [] brackets.\n",
    "list1=[4,5,6]\n",
    "print(list[0])           #prints 1\n",
    "print(list[1:3])         #prints 2,3\n",
    "print(list[::2])\n",
    "print(list[2::2])"
   ]
  },
  {
   "cell_type": "code",
   "execution_count": 2,
   "id": "7301bdf2",
   "metadata": {},
   "outputs": [
    {
     "name": "stdout",
     "output_type": "stream",
     "text": [
      "[1, 2, 3, 4, 5, 'yash', 'niteesh', 34.5, 4, 5, 6]\n",
      "['Ramu', 1, 2, 3, 4, 5, 'yash', 'niteesh', 34.5, 4, 5, 6, 10]\n"
     ]
    }
   ],
   "source": [
    "list2=list+list1\n",
    "print(list2)\n",
    "list2.append(10)\n",
    "list2.insert(0,'Ramu')\n",
    "print(list2)"
   ]
  },
  {
   "cell_type": "code",
   "execution_count": 27,
   "id": "1b3a14ed",
   "metadata": {},
   "outputs": [
    {
     "name": "stdout",
     "output_type": "stream",
     "text": [
      "['revi', 6, 5, 4, 5, 4, 3, 2, 'ramu', 'ravi', 'revi']\n",
      "revi\n",
      "['revi', 6, 5, 4, 5, 3, 2, 'ramu', 'ravi']\n",
      "['revi', 6, 5, 4, 5, 3, 2, 'ramu', 'ravi', 'ramu', 'ravi', 'revi', 'niteesh']\n",
      "['revi', 6, 5, 4, 5, 3, 2, 'ramu', 'ravi', 'ramu', 'ravi', 'revi']\n"
     ]
    }
   ],
   "source": [
    "del(list2[1])\n",
    "print(list2)\n",
    "del(list2[5])\n",
    "print(list2.pop())\n",
    "print(list2)\n",
    "list2.extend(['ramu','ravi','revi','niteesh'])\n",
    "print(list2)\n",
    "list2.remove('niteesh')\n",
    "print(list2)"
   ]
  },
  {
   "cell_type": "code",
   "execution_count": 5,
   "id": "bf243711",
   "metadata": {},
   "outputs": [
    {
     "data": {
      "text/plain": [
       "10"
      ]
     },
     "execution_count": 5,
     "metadata": {},
     "output_type": "execute_result"
    }
   ],
   "source": [
    "list2.index('ravi')"
   ]
  },
  {
   "cell_type": "code",
   "execution_count": 6,
   "id": "418586a9",
   "metadata": {},
   "outputs": [
    {
     "data": {
      "text/plain": [
       "0"
      ]
     },
     "execution_count": 6,
     "metadata": {},
     "output_type": "execute_result"
    }
   ],
   "source": [
    "list2.count('niteesh')"
   ]
  },
  {
   "cell_type": "code",
   "execution_count": 7,
   "id": "ff541289",
   "metadata": {},
   "outputs": [
    {
     "name": "stdout",
     "output_type": "stream",
     "text": [
      "['revi', 'ravi', 'ramu', 6, 5, 4, 34.5, 5, 4, 3, 2, 'Ramu']\n"
     ]
    }
   ],
   "source": [
    "list2.reverse()\n",
    "print(list2)"
   ]
  },
  {
   "cell_type": "markdown",
   "id": "6a731b42",
   "metadata": {},
   "source": [
    "# Tuples"
   ]
  },
  {
   "cell_type": "code",
   "execution_count": 29,
   "id": "816e66f0",
   "metadata": {},
   "outputs": [
    {
     "name": "stdout",
     "output_type": "stream",
     "text": [
      "('Avinash', 786, 2.24, 'Srinivas', 70.4)\n",
      "Avinash\n",
      "(786, 2.24)\n",
      "(2.24, 'Srinivas', 70.4)\n",
      "(123, 'priya', 123, 'priya')\n",
      "('Avinash', 786, 2.24, 'Srinivas', 70.4, 123, 'priya')\n"
     ]
    }
   ],
   "source": [
    "# python tuple is another sequence data type that is similar to a list.\n",
    "# tuples can be thought of as read-only lists\n",
    "t=(\"Avinash\",786,2.24,\"Srinivas\",70.4)\n",
    "t1=(123,\"priya\")\n",
    "print(t)              # prints complete tuple\n",
    "print(t[0])           # prints first element\n",
    "print(t[1:3])         # elements of tuple starts from 2nd till 3rd\n",
    "print(t[2:])           # starting from 3rd element\n",
    "print(t1*2)           # tuple twile\n",
    "print(t+t1)           # concatinated tuple"
   ]
  },
  {
   "cell_type": "markdown",
   "id": "a96644cf",
   "metadata": {},
   "source": [
    "# String operations"
   ]
  },
  {
   "cell_type": "code",
   "execution_count": 25,
   "id": "30968389",
   "metadata": {},
   "outputs": [
    {
     "name": "stdout",
     "output_type": "stream",
     "text": [
      "['This', 'is', 'the', 'for', 'if', 'the', 'its', 'is', 'less', 'than', '5']\n",
      "Ths s th xmpl strng fr chckng f th strng cntnng wrds whr ts lngth s lss thn 5 lttrs.\n"
     ]
    }
   ],
   "source": [
    "string=\"This is the example string for checking if the string containing words where its length is less than 5 letters.\"\n",
    "short_words=[word for word in string.split() if len(word)<5]\n",
    "#Here the .split() method is used to split the words in the given string.\n",
    "print(short_words)\n",
    "vowels=\"aeiouAEIOU\"\n",
    "string1=\"\".join([char for char in string if char not in vowels])\n",
    "#Here the .join() method is used to join the character into the new string.\n",
    "print(string1)"
   ]
  },
  {
   "cell_type": "markdown",
   "id": "32664adb",
   "metadata": {},
   "source": [
    "# Functions"
   ]
  },
  {
   "cell_type": "code",
   "execution_count": 9,
   "id": "3e7510cf",
   "metadata": {},
   "outputs": [
    {
     "name": "stdout",
     "output_type": "stream",
     "text": [
      "28  is perfect number\n"
     ]
    }
   ],
   "source": [
    "def is_perfect(num):\n",
    "    divisors=[]\n",
    "    for i in range(1,num):\n",
    "        if num%i==0:\n",
    "            divisors.append(i)\n",
    "    return sum(divisors)==num\n",
    "\n",
    "num=28\n",
    "if is_perfect(num):\n",
    "    print(num,\" is perfect number\")\n",
    "else:\n",
    "    print(num,\" is not a perfect number\")\n"
   ]
  },
  {
   "cell_type": "code",
   "execution_count": 10,
   "id": "1f7ead7c",
   "metadata": {},
   "outputs": [
    {
     "name": "stdout",
     "output_type": "stream",
     "text": [
      "17  is prime number\n"
     ]
    }
   ],
   "source": [
    "def is_prime(num):\n",
    "    count=0\n",
    "    for i in range(2,num):\n",
    "        if num%i==0:\n",
    "            count+=1\n",
    "    return count==0\n",
    "num=17\n",
    "if is_prime(num):\n",
    "    print(num,\" is prime number\")\n",
    "else:\n",
    "    print(num,\" is not prime number\")"
   ]
  },
  {
   "cell_type": "code",
   "execution_count": 37,
   "id": "6bebb63d",
   "metadata": {},
   "outputs": [
    {
     "name": "stdout",
     "output_type": "stream",
     "text": [
      "1010101  is binary number\n"
     ]
    }
   ],
   "source": [
    "def is_binary(num):\n",
    "    for digit in str(num):\n",
    "        if digit!='0' and digit!='1':\n",
    "            return False\n",
    "    return True\n",
    "num=1010101\n",
    "if is_binary(num):\n",
    "    print(num,\" is binary number\")\n",
    "else:\n",
    "    print(num,\" is not a binary number\")"
   ]
  }
 ],
 "metadata": {
  "kernelspec": {
   "display_name": "Python 3 (ipykernel)",
   "language": "python",
   "name": "python3"
  },
  "language_info": {
   "codemirror_mode": {
    "name": "ipython",
    "version": 3
   },
   "file_extension": ".py",
   "mimetype": "text/x-python",
   "name": "python",
   "nbconvert_exporter": "python",
   "pygments_lexer": "ipython3",
   "version": "3.10.6"
  }
 },
 "nbformat": 4,
 "nbformat_minor": 5
}
