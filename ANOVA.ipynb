{
 "cells": [
  {
   "cell_type": "markdown",
   "id": "b9000a3c",
   "metadata": {},
   "source": [
    "# ANOVA(Analysis of Variance)\n",
    "### It is a statistical technique to check whether mean of two or more samples are significantly same or not."
   ]
  },
  {
   "cell_type": "code",
   "execution_count": 1,
   "id": "4c5e10bc",
   "metadata": {},
   "outputs": [],
   "source": [
    "import numpy as np\n",
    "l1 = np.array([70,65,60,50,75,60,70,50,40,60])\n",
    "l2= np.array([80,70,75,85,90,80,70,60,80,90,])"
   ]
  },
  {
   "cell_type": "code",
   "execution_count": 2,
   "id": "355b7abe",
   "metadata": {},
   "outputs": [
    {
     "data": {
      "text/plain": [
       "60.0"
      ]
     },
     "execution_count": 2,
     "metadata": {},
     "output_type": "execute_result"
    }
   ],
   "source": [
    "a = np.mean(l1)\n",
    "a"
   ]
  },
  {
   "cell_type": "code",
   "execution_count": 3,
   "id": "b85d09fd",
   "metadata": {},
   "outputs": [
    {
     "data": {
      "text/plain": [
       "78.0"
      ]
     },
     "execution_count": 3,
     "metadata": {},
     "output_type": "execute_result"
    }
   ],
   "source": [
    "b = np.mean(l2)\n",
    "b"
   ]
  },
  {
   "cell_type": "code",
   "execution_count": 4,
   "id": "ea3303ff",
   "metadata": {},
   "outputs": [],
   "source": [
    "#compute f-statistics\n",
    "#step1:-compute between group variability\n",
    "# compute square sum between = n1(u1-u)^2+n2(u2-u)^2\n",
    "# compute mean sum between = n1(u1-u)^2+n2(u2-u)^2/df1 df1=(k-1)\n",
    "#step2:- mean sum within = summation(x1i-u1)^+summation(x2i-u2)^2/df2 here df2=(n-k)\n",
    "#step3:- compute f-statistic\n",
    "    #    f=msbetween/mswithin\n",
    "#step4:-find fcr(f_critical value) from f-table,given that significance level,df1,df2"
   ]
  },
  {
   "cell_type": "code",
   "execution_count": 3,
   "id": "ca478c6a",
   "metadata": {},
   "outputs": [
    {
     "name": "stdout",
     "output_type": "stream",
     "text": [
      "F-statistic:  15.67741935483871\n",
      "Critical value of F:  4.413873419170567\n"
     ]
    }
   ],
   "source": [
    "import numpy as np\n",
    "from scipy.stats import f\n",
    "\n",
    "def compute_f_statistic(groups):\n",
    "    \"\"\"\n",
    "    Computes the F-statistic for a set of groups.\n",
    "    \n",
    "    Parameters:\n",
    "    -----------\n",
    "    groups : list of numpy.ndarray\n",
    "        List of arrays containing group data\n",
    "    \n",
    "    Returns:\n",
    "    --------\n",
    "    float\n",
    "        The F-statistic\n",
    "    \"\"\"\n",
    "    k = len(groups)  # Number of groups\n",
    "    n = sum([len(g) for g in groups])  # Total sample size\n",
    "    \n",
    "    # Compute the overall mean\n",
    "    overall_mean = np.mean(np.concatenate(groups))\n",
    "    \n",
    "    # Compute the mean sum of squares between groups\n",
    "    ss_between = sum([len(g) * (np.mean(g) - overall_mean)**2 for g in groups])\n",
    "    df_between = k - 1\n",
    "    ms_between = ss_between / df_between\n",
    "    \n",
    "    # Compute the mean sum of squares within groups\n",
    "    ss_within = sum([sum((g - np.mean(g))**2) for g in groups])\n",
    "    df_within = n - k\n",
    "    ms_within = ss_within / df_within\n",
    "    \n",
    "    # Compute the F-statistic\n",
    "    f_stat = ms_between / ms_within\n",
    "    \n",
    "    # Compute the critical value of F\n",
    "    alpha = 0.05  # significance level\n",
    "    f_crit = f.ppf(1 - alpha, df_between, df_within)\n",
    "    \n",
    "    return f_stat, f_crit\n",
    "\n",
    "# Example usage\n",
    "group1 = np.array([70,65,60,50,75,60,70,50,40,60])\n",
    "group2 = np.array([80,70,75,85,90,80,70,60,80,90])\n",
    "f_stat, f_crit = compute_f_statistic([group1, group2])\n",
    "print(\"F-statistic: \", f_stat)\n",
    "print(\"Critical value of F: \", f_crit)\n"
   ]
  },
  {
   "cell_type": "code",
   "execution_count": null,
   "id": "394ea238",
   "metadata": {},
   "outputs": [],
   "source": []
  }
 ],
 "metadata": {
  "kernelspec": {
   "display_name": "Python 3 (ipykernel)",
   "language": "python",
   "name": "python3"
  },
  "language_info": {
   "codemirror_mode": {
    "name": "ipython",
    "version": 3
   },
   "file_extension": ".py",
   "mimetype": "text/x-python",
   "name": "python",
   "nbconvert_exporter": "python",
   "pygments_lexer": "ipython3",
   "version": "3.10.7"
  }
 },
 "nbformat": 4,
 "nbformat_minor": 5
}
