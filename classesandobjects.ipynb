{
 "cells": [
  {
   "cell_type": "code",
   "execution_count": 20,
   "id": "6c117deb",
   "metadata": {},
   "outputs": [
    {
     "name": "stdout",
     "output_type": "stream",
     "text": [
      "True\n",
      "sravani\n",
      "this is student's class with cse6 cr names \n",
      "{'id': '123', 'name': 'sravani', 'main': 'first'}\n",
      "__main__\n"
     ]
    }
   ],
   "source": [
    "class student:\n",
    "    '''this is student's class with cse6 cr names '''\n",
    "    def __init__(self,id,name):\n",
    "        self.id=id\n",
    "        self.name=name\n",
    "    def display(self):\n",
    "        print(self.id,self.name)\n",
    "s=student(\"123\",\"prasanth\")\n",
    "print(hasattr(s,\"id\"))\n",
    "setattr(s,\"name\",\"sravani\")\n",
    "print(getattr(s,\"name\"))\n",
    "print(s.__doc__)\n",
    "print(s.__dict__)\n",
    "#print(delattr(s,\"name\"))\n",
    "print(s.__module__)"
   ]
  },
  {
   "cell_type": "code",
   "execution_count": 33,
   "id": "5f23d865",
   "metadata": {},
   "outputs": [
    {
     "name": "stdout",
     "output_type": "stream",
     "text": [
      "rectangle perimeter 30 \n",
      "\n",
      "area:  2 \n",
      "\n",
      "area of the square :  1200\n"
     ]
    }
   ],
   "source": [
    "#inheritance and method overriding \n",
    "class Area:\n",
    "    def area(self,a,b):\n",
    "        print(\"area: \",a*b,\"\\n\")\n",
    "class Rectangle(Area):\n",
    "    def __init__(self,a,b):\n",
    "        self.w=a\n",
    "        self.h=b\n",
    "    def perimeter(self):\n",
    "        print(\"rectangle perimeter\",self.w+self.h,\"\\n\")\n",
    "class square(Area):\n",
    "    def __init__(self,a,b):\n",
    "        self.w=a\n",
    "        self.h=b\n",
    "    def area(self):\n",
    "        print(\"area of the square : \",self.w*self.h)\n",
    "c=Rectangle(10,20)\n",
    "c.perimeter()\n",
    "b=Area()\n",
    "b.area(1,2)\n",
    "c1=square(30,40)\n",
    "c1.area()"
   ]
  },
  {
   "cell_type": "code",
   "execution_count": 8,
   "id": "c7e7ed34",
   "metadata": {},
   "outputs": [
    {
     "ename": "TypeError",
     "evalue": "unsupported operand type(s) for /: 'str' and 'int'",
     "output_type": "error",
     "traceback": [
      "\u001b[1;31m---------------------------------------------------------------------------\u001b[0m",
      "\u001b[1;31mTypeError\u001b[0m                                 Traceback (most recent call last)",
      "Cell \u001b[1;32mIn [8], line 3\u001b[0m\n\u001b[0;32m      1\u001b[0m \u001b[38;5;28mstr\u001b[39m\u001b[38;5;241m=\u001b[39m\u001b[38;5;124m\"\u001b[39m\u001b[38;5;124mhello there\u001b[39m\u001b[38;5;124m\"\u001b[39m\n\u001b[0;32m      2\u001b[0m \u001b[38;5;28;01mfor\u001b[39;00m i \u001b[38;5;129;01min\u001b[39;00m \u001b[38;5;28mstr\u001b[39m:\n\u001b[1;32m----> 3\u001b[0m     \u001b[38;5;28;01mif\u001b[39;00m(i\u001b[38;5;241m/\u001b[39m\u001b[38;5;241m2\u001b[39m\u001b[38;5;241m==\u001b[39m\u001b[38;5;241m0\u001b[39m):\n\u001b[0;32m      4\u001b[0m         \u001b[38;5;28mprint\u001b[39m(i)\n",
      "\u001b[1;31mTypeError\u001b[0m: unsupported operand type(s) for /: 'str' and 'int'"
     ]
    }
   ],
   "source": [
    "str=\"hello there\"\n",
    "for i in str:\n",
    "    if(i/2==0):\n",
    "        print(i)"
   ]
  },
  {
   "cell_type": "code",
   "execution_count": 30,
   "id": "243dee8b",
   "metadata": {},
   "outputs": [
    {
     "name": "stdout",
     "output_type": "stream",
     "text": [
      "it is abstracted\n",
      "name:  my name is niteesh chandra\n",
      "displayid-->abstract method\n"
     ]
    }
   ],
   "source": [
    "#abstract attributes and methods in python class  #abstract base class\n",
    "from abc import ABC,abstractmethod\n",
    "class student(ABC):\n",
    "    id=\"123\"\n",
    "   # @abstractmethod#once class is abstracted it generally acts like interface\n",
    "    def displayid(self):\n",
    "        #print(self.__id)\n",
    "        pass\n",
    "s1=student()\n",
    "s1.displayid()\n",
    "try:\n",
    "    print(s1.__id)\n",
    "except:\n",
    "    print(\"it is abstracted\")\n",
    "class csestudent(student):\n",
    "    def displayname(self,name):\n",
    "        print(\"name: \",name)\n",
    "    def displayid(self,id):\n",
    "        print(\"this is id\",id)\n",
    "s2=csestudent()\n",
    "s2.displayname(\"my name is niteesh chandra\")\n",
    "try:\n",
    "    s2.displayid()\n",
    "except Exception as e:\n",
    "    print(\"displayid-->abstract method\")"
   ]
  },
  {
   "cell_type": "code",
   "execution_count": null,
   "id": "6e16b4ba",
   "metadata": {},
   "outputs": [],
   "source": []
  }
 ],
 "metadata": {
  "kernelspec": {
   "display_name": "Python 3 (ipykernel)",
   "language": "python",
   "name": "python3"
  },
  "language_info": {
   "codemirror_mode": {
    "name": "ipython",
    "version": 3
   },
   "file_extension": ".py",
   "mimetype": "text/x-python",
   "name": "python",
   "nbconvert_exporter": "python",
   "pygments_lexer": "ipython3",
   "version": "3.10.7"
  }
 },
 "nbformat": 4,
 "nbformat_minor": 5
}
