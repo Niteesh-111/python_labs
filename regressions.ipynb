{
 "cells": [
  {
   "cell_type": "code",
   "execution_count": 19,
   "id": "de8d6092",
   "metadata": {},
   "outputs": [],
   "source": [
    "import pandas as pd \n",
    "import numpy as np \n",
    "import matplotlib.pyplot as plt\n",
    "from sklearn.linear_model import LinearRegression as lr"
   ]
  },
  {
   "cell_type": "code",
   "execution_count": null,
   "id": "41f1f24e",
   "metadata": {},
   "outputs": [],
   "source": [
    "#total error"
   ]
  },
  {
   "cell_type": "code",
   "execution_count": 4,
   "id": "321b12d5",
   "metadata": {},
   "outputs": [
    {
     "name": "stdout",
     "output_type": "stream",
     "text": [
      "31.555555555555557\n",
      "71.11111111111111\n",
      "86.21772458310919\n",
      "-2649.537086844779\n"
     ]
    }
   ],
   "source": [
    "x = np.array([15,20,30,25,40,35,45,42,32])\n",
    "xbar = np.mean(x)\n",
    "print(xbar)\n",
    "y = np.array([50,60,75,65,80,75,85,80,70])\n",
    "ybar = np.mean(y)\n",
    "print(ybar)\n",
    "\n",
    "b1 = np.sum((x-xbar)*(y-ybar))/np.var(x)*9\n",
    "print(b1)\n",
    "bo = ybar - b1*xbar\n",
    "print(bo)"
   ]
  },
  {
   "cell_type": "code",
   "execution_count": 15,
   "id": "b50768ce",
   "metadata": {},
   "outputs": [
    {
     "data": {
      "text/plain": [
       "-87.44999999999999"
      ]
     },
     "execution_count": 15,
     "metadata": {},
     "output_type": "execute_result"
    }
   ],
   "source": [
    "-231+9.57*15"
   ]
  },
  {
   "cell_type": "code",
   "execution_count": null,
   "id": "5844f328",
   "metadata": {},
   "outputs": [],
   "source": [
    "np.var(x)"
   ]
  },
  {
   "cell_type": "code",
   "execution_count": 3,
   "id": "148c3507",
   "metadata": {},
   "outputs": [
    {
     "ename": "ValueError",
     "evalue": "operands could not be broadcast together with shapes (3,6) (6,3) ",
     "output_type": "error",
     "traceback": [
      "\u001b[1;31m---------------------------------------------------------------------------\u001b[0m",
      "\u001b[1;31mValueError\u001b[0m                                Traceback (most recent call last)",
      "Cell \u001b[1;32mIn [3], line 7\u001b[0m\n\u001b[0;32m      5\u001b[0m X \u001b[38;5;241m=\u001b[39m np\u001b[38;5;241m.\u001b[39marray([[\u001b[38;5;241m1\u001b[39m,\u001b[38;5;241m35\u001b[39m,\u001b[38;5;241m0.5\u001b[39m],[\u001b[38;5;241m1\u001b[39m,\u001b[38;5;241m40\u001b[39m,\u001b[38;5;241m0.7\u001b[39m],[\u001b[38;5;241m1\u001b[39m,\u001b[38;5;241m40\u001b[39m,\u001b[38;5;241m0.8\u001b[39m],[\u001b[38;5;241m1\u001b[39m,\u001b[38;5;241m30\u001b[39m,\u001b[38;5;241m0.6\u001b[39m],[\u001b[38;5;241m1\u001b[39m,\u001b[38;5;241m30\u001b[39m,\u001b[38;5;241m0.65\u001b[39m],[\u001b[38;5;241m1\u001b[39m,\u001b[38;5;241m25\u001b[39m,\u001b[38;5;241m0.5\u001b[39m]])\n\u001b[0;32m      6\u001b[0m Y \u001b[38;5;241m=\u001b[39m np\u001b[38;5;241m.\u001b[39marray([\u001b[38;5;241m0\u001b[39m,\u001b[38;5;241m1\u001b[39m,\u001b[38;5;241m3\u001b[39m,\u001b[38;5;241m2\u001b[39m,\u001b[38;5;241m0\u001b[39m,\u001b[38;5;241m0\u001b[39m])\n\u001b[1;32m----> 7\u001b[0m B \u001b[38;5;241m=\u001b[39m np\u001b[38;5;241m.\u001b[39mtranspose(X)\u001b[38;5;241m*\u001b[39mY\u001b[38;5;241m/\u001b[39mnp\u001b[38;5;241m.\u001b[39mtranspose(X)\u001b[38;5;241m*\u001b[39mX\n\u001b[0;32m      8\u001b[0m \u001b[38;5;28mprint\u001b[39m(B)\n",
      "\u001b[1;31mValueError\u001b[0m: operands could not be broadcast together with shapes (3,6) (6,3) "
     ]
    }
   ],
   "source": [
    "b = np.array([1,1,1,1,1,1])\n",
    "T = np.array([35,40,40,30,30,25])\n",
    "H = np.array([0.5,0.7,0.8,0.6,0.65,0.5])\n",
    "R = np.array([0,1,3,2,0,0])\n",
    "X = np.array([[1,35,0.5],[1,40,0.7],[1,40,0.8],[1,30,0.6],[1,30,0.65],[1,25,0.5]])\n",
    "Y = np.array([0,1,3,2,0,0])\n",
    "B = np.transpose(X)*Y/np.transpose(X)*X\n",
    "print(B)"
   ]
  },
  {
   "cell_type": "code",
   "execution_count": 2,
   "id": "7d2a83c7",
   "metadata": {},
   "outputs": [
    {
     "name": "stdout",
     "output_type": "stream",
     "text": [
      "[[55.0952381 ]\n",
      " [46.95238095]\n",
      " [63.23809524]\n",
      " [71.38095238]\n",
      " [79.52380952]\n",
      " [38.80952381]]\n",
      "[[6.23809524]\n",
      " [1.62857143]]\n"
     ]
    }
   ],
   "source": [
    "import numpy as np\n",
    "import math\n",
    "X = np.array([[1, 30], [1, 25], [1, 35], [1, 40], [1, 45], [1, 20]])\n",
    "Y = np.array([[50],[50],[60],[75],[80],[40]])\n",
    "B = np.dot(np.linalg.inv(np.dot(np.transpose(X),X)),np.dot(np.transpose(X),Y))\n",
    "Py = np.dot(X,B)\n",
    "print(Py)\n",
    "print(B)"
   ]
  },
  {
   "cell_type": "code",
   "execution_count": 13,
   "id": "f4acdaf1",
   "metadata": {},
   "outputs": [
    {
     "data": {
      "text/plain": [
       "1.6000000000010166"
      ]
     },
     "execution_count": 13,
     "metadata": {},
     "output_type": "execute_result"
    }
   ],
   "source": [
    "-4+35*8.30*35*math.pow(10,-16)+8*0.7\n"
   ]
  },
  {
   "cell_type": "code",
   "execution_count": 13,
   "id": "4c9f84a7",
   "metadata": {},
   "outputs": [
    {
     "name": "stdout",
     "output_type": "stream",
     "text": [
      "0.9504631886884446 60.47619047619054 1160.3571428571422\n"
     ]
    }
   ],
   "source": [
    "sse = np.sum((Py-Y)**2)\n",
    "ssr = np.sum((Py-np.mean(Y))**2)\n",
    "r2 = ssr/(ssr+sse)\n",
    "print(r2,sse,ssr)"
   ]
  },
  {
   "cell_type": "code",
   "execution_count": 14,
   "id": "705e473f",
   "metadata": {},
   "outputs": [
    {
     "name": "stdout",
     "output_type": "stream",
     "text": [
      "[6.23809524] [[0.         1.62857143]] 0.9504631886884447\n"
     ]
    }
   ],
   "source": [
    "from sklearn.linear_model import LinearRegression as lr\n",
    "model = lr().fit(X,Y)\n",
    "b0 = model.intercept_\n",
    "B = model.coef_\n",
    "R2 = model.score(X,Y)\n",
    "print(b0,B,R2)"
   ]
  },
  {
   "cell_type": "code",
   "execution_count": 17,
   "id": "955bce39",
   "metadata": {},
   "outputs": [
    {
     "data": {
      "image/png": "[encoded data removed]",
      "text/plain": [
       "<Figure size 640x480 with 1 Axes>"
      ]
     },
     "metadata": {},
     "output_type": "display_data"
    }
   ],
   "source": [
    "import matplotlib.pyplot as plt \n",
    "\n",
    "plt.scatter(X[:,1],Y,color=\"r\")\n",
    "plt.plot(X[:,1],Py,color=\"b\")\n",
    "plt.title(\"Rain Prediction\")\n",
    "plt.xlabel(\"temperatures\")\n",
    "plt.ylabel(\"Rain\")\n",
    "plt.show()\n"
   ]
  },
  {
   "cell_type": "markdown",
   "id": "be8e14c9",
   "metadata": {},
   "source": [
    "# Linear and multiple regression"
   ]
  },
  {
   "cell_type": "markdown",
   "id": "dd84137b",
   "metadata": {},
   "source": [
    "# polynomial regression "
   ]
  },
  {
   "cell_type": "code",
   "execution_count": 40,
   "id": "3b808c63",
   "metadata": {},
   "outputs": [
    {
     "name": "stdout",
     "output_type": "stream",
     "text": [
      "[-1080.68362942] [[ 0.         73.81531335 -0.71249846]] 0.9988862482076473\n",
      "[[-1.08068363e+03]\n",
      " [ 7.38153133e+01]\n",
      " [-7.12498461e-01]] [[110.62325293]\n",
      " [492.52715567]\n",
      " [731.93136613]\n",
      " [319.38766584]\n",
      " [630.04172244]\n",
      " [798.19608675]\n",
      " [551.80797315]\n",
      " [280.4847771 ]]\n"
     ]
    },
    {
     "data": {
      "image/png": "[encoded data removed]",
      "text/plain": [
       "<Figure size 640x480 with 1 Axes>"
      ]
     },
     "metadata": {},
     "output_type": "display_data"
    }
   ],
   "source": [
    "x=np.array([[1,20,400],[1,30,900],[1,40,1600],[1,25,625],[1,35,1225],[1,45,2025],[1,32,1024],[1,24,576]])\n",
    "y=np.array([[100],[490],[735],[330],[620],[800],[550],[290]])\n",
    "model=lr().fit(x,y)\n",
    "Bo=model.intercept_\n",
    "B=model.coef_\n",
    "R2=model.score(x,y)\n",
    "print(Bo,B,R2)\n",
    "B=np.dot(np.linalg.inv(np.dot(x.T,x)),np.dot(x.T,y))\n",
    "Py=np.dot(x,B)\n",
    "print(B,Py)\n",
    "plt.scatter(x[:,1],y,color='r')\n",
    "plt.plot(x[:,1],Py,color='b')\n",
    "plt.show()"
   ]
  },
  {
   "cell_type": "code",
   "execution_count": null,
   "id": "6de9b65c",
   "metadata": {},
   "outputs": [],
   "source": []
  }
 ],
 "metadata": {
  "kernelspec": {
   "display_name": "Python 3 (ipykernel)",
   "language": "python",
   "name": "python3"
  },
  "language_info": {
   "codemirror_mode": {
    "name": "ipython",
    "version": 3
   },
   "file_extension": ".py",
   "mimetype": "text/x-python",
   "name": "python",
   "nbconvert_exporter": "python",
   "pygments_lexer": "ipython3",
   "version": "3.10.7"
  }
 },
 "nbformat": 4,
 "nbformat_minor": 5
}
