{
 "cells": [
  {
   "cell_type": "markdown",
   "id": "5530f838",
   "metadata": {},
   "source": [
    "# Regex"
   ]
  },
  {
   "cell_type": "code",
   "execution_count": 6,
   "id": "fbc98217",
   "metadata": {},
   "outputs": [],
   "source": [
    "import re"
   ]
  },
  {
   "cell_type": "code",
   "execution_count": 7,
   "id": "256dc9fb",
   "metadata": {},
   "outputs": [
    {
     "name": "stdout",
     "output_type": "stream",
     "text": [
      "wonderful\n"
     ]
    }
   ],
   "source": [
    "text=\"This is a good day.\"\n",
    "if re.search(\"good\",text): # Here the first parameter is a pattern\n",
    "    print(\"wonderful\")     # search() checks the entire text for matching text.\n",
    "else:\n",
    "    print(\"Alas (\")"
   ]
  },
  {
   "cell_type": "code",
   "execution_count": 12,
   "id": "0140cc89",
   "metadata": {},
   "outputs": [
    {
     "name": "stdout",
     "output_type": "stream",
     "text": [
      "<re.Match object; span=(0, 4), match='This'>\n"
     ]
    }
   ],
   "source": [
    "re.match(\"This\",text)   # match() function checks for only starting string of the text."
   ]
  },
  {
   "cell_type": "code",
   "execution_count": 11,
   "id": "5919b920",
   "metadata": {},
   "outputs": [
    {
     "name": "stdout",
     "output_type": "stream",
     "text": [
      "None\n"
     ]
    }
   ],
   "source": [
    "print(re.match(\"good\",text))"
   ]
  },
  {
   "cell_type": "code",
   "execution_count": 13,
   "id": "649effc3",
   "metadata": {},
   "outputs": [
    {
     "name": "stdout",
     "output_type": "stream",
     "text": [
      "<re.Match object; span=(10, 14), match='good'>\n"
     ]
    }
   ],
   "source": [
    "print(re.search(\"good\",text))"
   ]
  },
  {
   "cell_type": "code",
   "execution_count": 14,
   "id": "bea6c451",
   "metadata": {},
   "outputs": [
    {
     "data": {
      "text/plain": [
       "['', ' works deligently.', ' gets good grades.Our student ', ' is successful.']"
      ]
     },
     "execution_count": 14,
     "metadata": {},
     "output_type": "execute_result"
    }
   ],
   "source": [
    "# The findall() and split() functions will parese the string and returns chunks.\n",
    "text=\"Amy works deligently.Amy gets good grades.Our student Amy is successful.\"\n",
    "re.split(\"Amy\",text)"
   ]
  },
  {
   "cell_type": "code",
   "execution_count": 15,
   "id": "ecc36c58",
   "metadata": {},
   "outputs": [
    {
     "data": {
      "text/plain": [
       "['Amy', 'Amy', 'Amy']"
      ]
     },
     "execution_count": 15,
     "metadata": {},
     "output_type": "execute_result"
    }
   ],
   "source": [
    "re.findall(\"Amy\",text)  # It will returns all the accurances of the pattern in the text."
   ]
  },
  {
   "cell_type": "code",
   "execution_count": 16,
   "id": "27bbe80f",
   "metadata": {},
   "outputs": [],
   "source": [
    "# search() looks for some pattern and returns a boolean.\n",
    "# split()nwill use a pattern for creating a list of substrings.\n",
    "# findall() will looks for a pattern and pull out all occurances."
   ]
  },
  {
   "cell_type": "markdown",
   "id": "f6493671",
   "metadata": {},
   "source": [
    "# Anchors"
   ]
  },
  {
   "cell_type": "code",
   "execution_count": 17,
   "id": "dd56bdc7",
   "metadata": {},
   "outputs": [],
   "source": [
    "# Anchors specify the start and/or the end of the string that you are trying to match.\n",
    "# The caret character ^ means start and the dollar sign character $ means end.\n",
    "# If we put ^ before a string ,it means that the regex processor retrieves must start with the string that you specify.\n",
    "# For ending ,you have to put the $."
   ]
  },
  {
   "cell_type": "code",
   "execution_count": 18,
   "id": "dcd0b941",
   "metadata": {},
   "outputs": [
    {
     "data": {
      "text/plain": [
       "<re.Match object; span=(0, 3), match='Amy'>"
      ]
     },
     "execution_count": 18,
     "metadata": {},
     "output_type": "execute_result"
    }
   ],
   "source": [
    "re.search(\"^Amy\",text)"
   ]
  },
  {
   "cell_type": "code",
   "execution_count": 24,
   "id": "85113b57",
   "metadata": {},
   "outputs": [
    {
     "data": {
      "text/plain": [
       "<re.Match object; span=(61, 72), match='successful.'>"
      ]
     },
     "execution_count": 24,
     "metadata": {},
     "output_type": "execute_result"
    }
   ],
   "source": [
    "re.search(\"successful.$\",text)"
   ]
  },
  {
   "cell_type": "markdown",
   "id": "1d44f0a5",
   "metadata": {},
   "source": [
    "# Patterns and character classes"
   ]
  },
  {
   "cell_type": "code",
   "execution_count": 28,
   "id": "c3fb80c7",
   "metadata": {},
   "outputs": [
    {
     "data": {
      "text/plain": [
       "['B', 'B', 'B']"
      ]
     },
     "execution_count": 28,
     "metadata": {},
     "output_type": "execute_result"
    }
   ],
   "source": [
    "grades=\"ACAAAABCBCBAA\"\n",
    "# If we want to know haw many number of B's present in the grades.\n",
    "re.findall(\"B\",grades)"
   ]
  },
  {
   "cell_type": "code",
   "execution_count": 26,
   "id": "5a132d47",
   "metadata": {},
   "outputs": [
    {
     "data": {
      "text/plain": [
       "['A', 'A', 'A', 'A', 'A', 'B', 'B', 'B', 'A', 'A']"
      ]
     },
     "execution_count": 26,
     "metadata": {},
     "output_type": "execute_result"
    }
   ],
   "source": [
    "# If we wanted to count the number of A's or B's in the grades list we cant use AB because it will used to match all A's which are followed immediaytely a B.\n",
    "# so we can put the characters in the square brakets.\n",
    "re.findall(\"[AB]\",grades)"
   ]
  },
  {
   "cell_type": "code",
   "execution_count": 27,
   "id": "92024f0d",
   "metadata": {},
   "outputs": [
    {
     "data": {
      "text/plain": [
       "['AC', 'AB']"
      ]
     },
     "execution_count": 27,
     "metadata": {},
     "output_type": "execute_result"
    }
   ],
   "source": [
    "# This is called set operator.You can also include a range of characters .Which are ordered alphanumerically.\n",
    "re.findall(\"[A][B-C]\",grades)"
   ]
  },
  {
   "cell_type": "code",
   "execution_count": 29,
   "id": "3d989d8e",
   "metadata": {},
   "outputs": [
    {
     "data": {
      "text/plain": [
       "['AC', 'AB']"
      ]
     },
     "execution_count": 29,
     "metadata": {},
     "output_type": "execute_result"
    }
   ],
   "source": [
    "re.findall(\"AB|AC\",grades)"
   ]
  },
  {
   "cell_type": "code",
   "execution_count": 30,
   "id": "00c93ec2",
   "metadata": {},
   "outputs": [
    {
     "data": {
      "text/plain": [
       "['C', 'B', 'C', 'B', 'C', 'B']"
      ]
     },
     "execution_count": 30,
     "metadata": {},
     "output_type": "execute_result"
    }
   ],
   "source": [
    "# If we want to parse out all the grades which are not A's.\n",
    "re.findall(\"[^A]\",grades)"
   ]
  },
  {
   "cell_type": "code",
   "execution_count": 31,
   "id": "67bd6e6b",
   "metadata": {},
   "outputs": [
    {
     "data": {
      "text/plain": [
       "[]"
      ]
     },
     "execution_count": 31,
     "metadata": {},
     "output_type": "execute_result"
    }
   ],
   "source": [
    "re.findall(\"^[^A]\",grades)"
   ]
  },
  {
   "cell_type": "markdown",
   "id": "190c7490",
   "metadata": {},
   "source": [
    "# Quantifiers"
   ]
  },
  {
   "cell_type": "code",
   "execution_count": 32,
   "id": "77e3d2f2",
   "metadata": {},
   "outputs": [
    {
     "data": {
      "text/plain": [
       "['AAAA', 'AA']"
      ]
     },
     "execution_count": 32,
     "metadata": {},
     "output_type": "execute_result"
    }
   ],
   "source": [
    "# Quantifiers are the number of times you want a pattern,to be matched in order to match.\n",
    "# The most basic quantifier is expressed as e{m,n}, where e is an expression or the character we are matching.m is the minimum number of times you want it to matched.n is the maximum number of times could be matched.\n",
    "re.findall(\"A{2,10}\",grades)"
   ]
  },
  {
   "cell_type": "code",
   "execution_count": 33,
   "id": "9fa4d4fd",
   "metadata": {},
   "outputs": [
    {
     "data": {
      "text/plain": [
       "['AA', 'AA', 'AA']"
      ]
     },
     "execution_count": 33,
     "metadata": {},
     "output_type": "execute_result"
    }
   ],
   "source": [
    "re.findall(\"A{1,1}A{1,1}\",grades)"
   ]
  },
  {
   "cell_type": "code",
   "execution_count": 35,
   "id": "fcea045a",
   "metadata": {},
   "outputs": [
    {
     "data": {
      "text/plain": [
       "[]"
      ]
     },
     "execution_count": 35,
     "metadata": {},
     "output_type": "execute_result"
    }
   ],
   "source": [
    "re.findall(\"A{2, 2}\",grades) # If you have an extra space in between the braces you'll get an empty result."
   ]
  },
  {
   "cell_type": "code",
   "execution_count": 37,
   "id": "dd0caa62",
   "metadata": {},
   "outputs": [
    {
     "data": {
      "text/plain": [
       "['AA', 'AA', 'AA']"
      ]
     },
     "execution_count": 37,
     "metadata": {},
     "output_type": "execute_result"
    }
   ],
   "source": [
    "re.findall(\"A{2}\",grades) # If you just have one number in the braces,it's considered to be both 'm','n'."
   ]
  },
  {
   "cell_type": "code",
   "execution_count": 38,
   "id": "d67f25b8",
   "metadata": {},
   "outputs": [
    {
     "data": {
      "text/plain": [
       "['AAAABC']"
      ]
     },
     "execution_count": 38,
     "metadata": {},
     "output_type": "execute_result"
    }
   ],
   "source": [
    "re.findall(\"A{1,10}B{1,10}C{1,10}\",grades)"
   ]
  }
 ],
 "metadata": {
  "kernelspec": {
   "display_name": "Python 3 (ipykernel)",
   "language": "python",
   "name": "python3"
  },
  "language_info": {
   "codemirror_mode": {
    "name": "ipython",
    "version": 3
   },
   "file_extension": ".py",
   "mimetype": "text/x-python",
   "name": "python",
   "nbconvert_exporter": "python",
   "pygments_lexer": "ipython3",
   "version": "3.10.6"
  }
 },
 "nbformat": 4,
 "nbformat_minor": 5
}
