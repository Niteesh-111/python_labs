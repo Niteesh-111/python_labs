{
 "cells": [
  {
   "cell_type": "code",
   "execution_count": 23,
   "id": "5d071cd0",
   "metadata": {},
   "outputs": [
    {
     "name": "stdout",
     "output_type": "stream",
     "text": [
      "      calories  duration\n",
      "day1       420        50\n",
      "day2       360        40\n",
      "day3       380        45\n",
      "day4       400        35 \n",
      "\n",
      "day1    420\n",
      "day2    360\n",
      "day3    380\n",
      "day4    400\n",
      "Name: calories, dtype: int64 \n",
      "\n",
      "      calories  duration\n",
      "day1       420        50\n",
      "day2       360        40\n",
      "day3       380        45\n",
      "day4       400        35 \n",
      "\n",
      "calories    420\n",
      "duration     50\n",
      "Name: day1, dtype: int64 \n",
      "\n",
      "calories    420\n",
      "duration     50\n",
      "Name: day1, dtype: int64 \n",
      "\n",
      "      calories  duration\n",
      "day1       420        50\n",
      "day2       360        40 \n",
      "\n",
      "   calories  duration\n",
      "4       420        50\n",
      "5       360        40\n",
      "6       380        45\n",
      "7       400        35\n"
     ]
    }
   ],
   "source": [
    "import pandas as pd\n",
    "import numpy as np\n",
    "data={\"calories\":[420,360,380,400],\n",
    "       \"duration\":[50,40,45,35]}\n",
    "df=pd.DataFrame(data,index=[\"day1\",\"day2\",\"day3\",\"day4\"])\n",
    "print(df,\"\\n\")\n",
    "print(df[\"calories\"],\"\\n\")\n",
    "print(df.head(),\"\\n\")\n",
    "print(df.loc[\"day1\"],\"\\n\")               # Here we need to give actual index values for loc attibute(numeriacl or alphabetical)\n",
    "print(df.iloc[0],\"\\n\")                   # Here we need to give default index values like 0,1,2,.,.,.,.,.,n only numerical values\n",
    "print(df.iloc[[0,1]],\"\\n\")\n",
    "df.index=np.arange(4,8)                 # Here np.arange(a,b,c) a is the starting bound and the b is the ending bound(exclusive) and the c is increment value(difference between each conclusive numbers).\n",
    "print(df)\n"
   ]
  },
  {
   "cell_type": "markdown",
   "id": "3da21bf2",
   "metadata": {},
   "source": [
    "# Pandas Series"
   ]
  },
  {
   "cell_type": "code",
   "execution_count": 34,
   "id": "9ce72638",
   "metadata": {},
   "outputs": [
    {
     "name": "stdout",
     "output_type": "stream",
     "text": [
      "u       2\n",
      "v       3\n",
      "x       5\n",
      "y       7\n",
      "z      11\n",
      "a    yash\n",
      "dtype: object\n"
     ]
    }
   ],
   "source": [
    "# Pandas series is like a column in a table\n",
    "# It is one dimensional array of any datatype values\n",
    "a=[2,3,5,7,11,\"yash\"]\n",
    "series=pd.Series(a,index=[\"u\",\"v\",\"x\",\"y\",\"z\",\"a\"])\n",
    "print(series)"
   ]
  },
  {
   "cell_type": "markdown",
   "id": "b245639e",
   "metadata": {},
   "source": [
    "# Creating DataFrame using Arrays"
   ]
  },
  {
   "cell_type": "code",
   "execution_count": 52,
   "id": "afc75a4e",
   "metadata": {},
   "outputs": [
    {
     "name": "stdout",
     "output_type": "stream",
     "text": [
      "   x  y  z\n",
      "a  0  1  2\n",
      "b  4  5  6\n",
      "c  7  8  9 \n",
      "\n",
      "2 \n",
      "\n",
      "(3, 3) \n",
      "\n",
      "9 \n",
      "\n",
      "Index(['x', 'y', 'z'], dtype='object') \n",
      "\n",
      "Index    24\n",
      "x        12\n",
      "y        12\n",
      "z        12\n",
      "dtype: int64 \n",
      "\n",
      "Index(['a', 'b', 'c'], dtype='object') \n",
      "\n",
      "a    0\n",
      "b    4\n",
      "c    7\n",
      "Name: x, dtype: int32 \n",
      "\n",
      "   x  y  z\n",
      "a  0  1  2\n",
      "b  4  5  6\n",
      "c  7  8  9 \n",
      "\n",
      "x    0\n",
      "y    1\n",
      "z    2\n",
      "Name: a, dtype: int32 \n",
      "\n"
     ]
    }
   ],
   "source": [
    "# Here we are going to create a DataFrame using 3 arrays  \n",
    "a=np.array([[0,1,2],[4,5,6],[7,8,9]])\n",
    "# Here we are going to assign columns to the DataFrame by using columns keyword\n",
    "df=pd.DataFrame(a,columns=[\"x\",\"y\",\"z\"],index=[\"a\",\"b\",\"c\"])\n",
    "print(df,\"\\n\")\n",
    "print(df.ndim,\"\\n\")         # Here it gives the dimension of the dataframe.\n",
    "print(df.shape,\"\\n\")        # Here it gives the no.of rows and no.of columns in the tuple mode.\n",
    "print(df.size,\"\\n\")         # Here it will gives the size of the dataframe that is nothing but the no.of items stored in that dataframe.\n",
    "print(df.columns,\"\\n\")      # df.columns will give the names of the columns and the data type of that columns.        \n",
    "print(df.memory_usage(),\"\\n\")# It will gives the memory size used by the dataframe in bytes.\n",
    "print(df.index,\"\\n\")        # Here it will prints the index names and the dtype of the index(rows in the DataFrame).\n"
   ]
  },
  {
   "cell_type": "markdown",
   "id": "493f2926",
   "metadata": {},
   "source": [
    "# Accessors in DataFrames"
   ]
  },
  {
   "cell_type": "code",
   "execution_count": 3,
   "id": "898b911a",
   "metadata": {},
   "outputs": [
    {
     "name": "stdout",
     "output_type": "stream",
     "text": [
      "a    0\n",
      "b    4\n",
      "c    7\n",
      "Name: x, dtype: int32 \n",
      "\n",
      "   x  y  z\n",
      "a  0  1  2\n",
      "b  4  5  6\n",
      "c  7  8  9 \n",
      "\n",
      "x    0\n",
      "y    1\n",
      "z    2\n",
      "Name: a, dtype: int32 \n",
      "\n",
      "5 \n",
      "\n",
      "1 \n",
      "\n"
     ]
    }
   ],
   "source": [
    "import pandas as pd \n",
    "import numpy as np\n",
    "# Here we are going to create a DataFrame using 3 arrays  \n",
    "a=np.array([[0,1,2],[4,5,6],[7,8,9]])\n",
    "# Here we are going to assign columns to the DataFrame by using columns keyword\n",
    "df=pd.DataFrame(a,columns=[\"x\",\"y\",\"z\"],index=[\"a\",\"b\",\"c\"])\n",
    "print(df.loc[:,\"x\"],\"\\n\")   # Here it will gives the values presented in the column \"x\".\n",
    "print(df.loc[:,:],\"\\n\")     # Here it will prints the entire DataFrame because we did'nt pass any values of indexes.\n",
    "print(df.iloc[0],\"\\n\")      # You can use it to get entire rows or columns (or) the part of the rows or columns but .iloc will accepts only numerical values.(only for integer indexing)\n",
    "print(df.at[\"b\",\"y\"],\"\\n\")  # .at[] will accepts labels of rows and column values which will returns only one data value of that particular index.\n",
    "print(df.iat[0,1],\"\\n\")     # .iat[] will accepts the 0 based indices of the rows and columns and returns only one data value."
   ]
  },
  {
   "cell_type": "markdown",
   "id": "ce1506f1",
   "metadata": {},
   "source": [
    "# Add and Delete a Row to the DataFrame"
   ]
  },
  {
   "cell_type": "code",
   "execution_count": 29,
   "id": "00fe10d8",
   "metadata": {},
   "outputs": [
    {
     "name": "stdout",
     "output_type": "stream",
     "text": [
      "   x  y  z   3\n",
      "a  0  1  2  10\n",
      "b  4  5  6  15\n",
      "c  7  8  9  12 \n",
      "\n",
      "    x   y   z   3\n",
      "a   0   1   2  10\n",
      "b   4   5   6  15\n",
      "c   7   8   9  12\n",
      "d  20  24  25  32 \n",
      "\n",
      "    x   y   z   3\n",
      "b   4   5   6  15\n",
      "c   7   8   9  12\n",
      "d  20  24  25  32 \n",
      "\n",
      "    x   y   z   3\n",
      "c   7   8   9  12\n",
      "d  20  24  25  32 \n",
      "\n"
     ]
    }
   ],
   "source": [
    "import pandas as pd \n",
    "import numpy as np\n",
    "a=np.array([[0,1,2],[4,5,6],[7,8,9]])\n",
    "# Here we are going to assign columns to the DataFrame by using columns keyword\n",
    "df=pd.DataFrame(a,columns=[\"x\",\"y\",\"z\"],index=[\"a\",\"b\",\"c\"])\n",
    "A={\"a\":10,\"b\":15,\"c\":12}\n",
    "df[len(df)]=A            # Here df[len(df)] will add a new column to the DataFrame\n",
    "print(df,\"\\n\")\n",
    "df.loc[len(df)]=[20,24,25,32]\n",
    "df.index=[\"a\",\"b\",\"c\",\"d\"]\n",
    "print(df,\"\\n\")\n",
    "# Removing a row by name/value\n",
    "df.drop(\"a\",inplace=True)\n",
    "print(df,\"\\n\")\n",
    "df=df.drop(df.index[0])\n",
    "print(df,\"\\n\")"
   ]
  },
  {
   "cell_type": "markdown",
   "id": "d17ce74c",
   "metadata": {},
   "source": [
    "# Delete and Add a Column to the DataFrame"
   ]
  },
  {
   "cell_type": "code",
   "execution_count": 41,
   "id": "bccf0849",
   "metadata": {},
   "outputs": [
    {
     "name": "stdout",
     "output_type": "stream",
     "text": [
      "   x  y  z   u\n",
      "a  0  1  2  10\n",
      "b  4  5  6  20\n",
      "c  7  8  9  30 \n",
      "\n",
      "   x  y  z   u   v\n",
      "a  0  1  2  10  20\n",
      "b  4  5  6  20  30\n",
      "c  7  8  9  30  40 \n",
      "\n",
      "   x  y  z   u   v   w\n",
      "a  0  1  2  10  20 NaN\n",
      "b  4  5  6  20  30 NaN\n",
      "c  7  8  9  30  40 NaN \n",
      "\n",
      "   y  z   u   v   w\n",
      "a  1  2  10  20 NaN\n",
      "b  5  6  20  30 NaN\n",
      "c  8  9  30  40 NaN \n",
      "\n",
      "   y  z   u   v   w\n",
      "a  1  2  10  20 NaN\n",
      "b  5  6  20  30 NaN\n",
      "c  8  9  30  40 NaN \n",
      "\n"
     ]
    }
   ],
   "source": [
    "import pandas as pd\n",
    "import numpy as np\n",
    "a=np.array([[0,1,2],[4,5,6],[7,8,9]])\n",
    "# Here we are going to assign columns to the DataFrame by using columns keyword\n",
    "df=pd.DataFrame(a,columns=[\"x\",\"y\",\"z\"],index=[\"a\",\"b\",\"c\"])\n",
    "A={\"a\":10,\"b\":20,\"c\":30}            # Add a column to the DataFrame by using Dictionary\n",
    "df[\"u\"]=A\n",
    "print(df,\"\\n\")\n",
    "# Adding a new column to the DataFrame by using list of elements\n",
    "df[\"v\"]=[20,30,40]\n",
    "print(df,\"\\n\")\n",
    "# Adding a new column to the DataFrame by using Series\n",
    "B=pd.Series([10,20,30])\n",
    "df[\"w\"]=B\n",
    "print(df,\"\\n\")\n",
    "# Removing a column by using column name\n",
    "df.drop(columns=[\"x\"],inplace=True)\n",
    "print(df,\"\\n\")\n",
    "df.rename(columns={\"y\":\"k\"})\n",
    "print(df,\"\\n\")"
   ]
  },
  {
   "cell_type": "markdown",
   "id": "ba6c0b48",
   "metadata": {},
   "source": [
    "# Data Cleaning"
   ]
  },
  {
   "cell_type": "code",
   "execution_count": 24,
   "id": "7e8e3357",
   "metadata": {},
   "outputs": [
    {
     "name": "stdout",
     "output_type": "stream",
     "text": [
      "      Name  Marks\n",
      "0     yash   23.0\n",
      "1  Niteesh   34.0\n",
      "2     Ramu    NaN\n",
      "3     ravi   23.0\n",
      "\n",
      " 26.666666666666668\n",
      "    Name  Marks\n",
      "0  False  False\n",
      "1  False  False\n",
      "2  False   True\n",
      "3  False  False\n",
      "      Name      Marks\n",
      "0     yash  23.000000\n",
      "1  Niteesh  34.000000\n",
      "2     Ramu  26.666667\n",
      "3     ravi  23.000000\n",
      "      Name  Marks\n",
      "0     yash   23.0\n",
      "1  Niteesh   34.0\n",
      "3     ravi   23.0\n",
      "      Name  Marks\n",
      "0     yash   23.0\n",
      "1  Niteesh   34.0\n",
      "2     Ramu    NaN\n"
     ]
    }
   ],
   "source": [
    "import pandas as pd \n",
    "import numpy as np\n",
    "data={\"Name\":[\"yash\",\"Niteesh\",\"Ramu\",\"ravi\"],\"Marks\":[23,34,np.nan,23]}\n",
    "df=pd.DataFrame(data)\n",
    "print(df)\n",
    "mean=np.mean(df[\"Marks\"])\n",
    "print(\"\\n\",mean)\n",
    "print(df.isnull())         # It will checks if the value is null or not and it gives the boolean values for each value in DataFrame (True if value null False otherwise)\n",
    "print(df.fillna(mean))        # It will fill the null values with value soecified here fill's with 0(inplace of nan)\n",
    "df.fillna(method=\"pad\")    # Filling a missing value with previous ones\n",
    "df.fillna(method=\"bfill\")  # Filling a miising value with with the followed ones.\n",
    "df.dropna()\n",
    "print(df.dropna())\n",
    "print(df.drop_duplicates(\"Marks\"))"
   ]
  },
  {
   "cell_type": "code",
   "execution_count": 20,
   "id": "c4748ffc",
   "metadata": {},
   "outputs": [
    {
     "name": "stdout",
     "output_type": "stream",
     "text": [
      "   Marks Grade\n",
      "0     20     A\n",
      "1     30     B\n",
      "2     24     E\n",
      "3     35    EX\n",
      "4     50     D\n",
      "5     55     C\n",
      "0    Good\n",
      "1    Good\n",
      "2    Good\n",
      "3     Avg\n",
      "4     Bad\n",
      "5     Bad\n",
      "Name: performance, dtype: category\n",
      "Categories (3, object): ['Good' < 'Avg' < 'Bad']\n",
      "   Marks Grade performance\n",
      "0     20     A        Good\n",
      "1     30     B        Good\n",
      "2     24     E        Good\n",
      "3     35    EX         Avg\n",
      "4     50     D         Bad\n",
      "5     55     C         Bad\n"
     ]
    },
    {
     "data": {
      "text/plain": [
       "<Axes: >"
      ]
     },
     "execution_count": 20,
     "metadata": {},
     "output_type": "execute_result"
    },
    {
     "data": {
      "image/png": "[encoded data removed]",
      "text/plain": [
       "<Figure size 640x480 with 1 Axes>"
      ]
     },
     "metadata": {},
     "output_type": "display_data"
    }
   ],
   "source": [
    "import pandas as pd\n",
    "import numpy as np\n",
    "data={\"Marks\":[20,30,24,35,50,55],\"Grade\":['A','B','E','EX','D','C']}\n",
    "df=pd.DataFrame(data)\n",
    "np.sort(df[\"Marks\"])\n",
    "print(df)\n",
    "a=['Good','Avg','Bad']\n",
    "df['performance']=pd.cut(df['Marks'],bins=3,labels=a)\n",
    "print(df[\"performance\"])\n",
    "print(df)\n",
    "df[\"Marks\"].hist(bins=3)"
   ]
  },
  {
   "cell_type": "code",
   "execution_count": null,
   "id": "bc470df9",
   "metadata": {},
   "outputs": [],
   "source": []
  }
 ],
 "metadata": {
  "kernelspec": {
   "display_name": "Python 3 (ipykernel)",
   "language": "python",
   "name": "python3"
  },
  "language_info": {
   "codemirror_mode": {
    "name": "ipython",
    "version": 3
   },
   "file_extension": ".py",
   "mimetype": "text/x-python",
   "name": "python",
   "nbconvert_exporter": "python",
   "pygments_lexer": "ipython3",
   "version": "3.10.6"
  }
 },
 "nbformat": 4,
 "nbformat_minor": 5
}
